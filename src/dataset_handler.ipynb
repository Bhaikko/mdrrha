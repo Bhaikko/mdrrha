{
 "cells": [
  {
   "cell_type": "code",
   "execution_count": 1,
   "source": [
    "import pandas as pd"
   ],
   "outputs": [],
   "metadata": {}
  },
  {
   "cell_type": "code",
   "execution_count": 52,
   "source": [
    "dataset = pd.read_csv(\n",
    "    './../data/dataset_original.csv', \n",
    "    sep=r'\\s*,\\s*', \n",
    "    header=0, \n",
    "    encoding='ascii', \n",
    "    engine='python'\n",
    ")\n",
    "\n",
    "print(dataset)"
   ],
   "outputs": [
    {
     "output_type": "stream",
     "name": "stdout",
     "text": [
      "     Job Id  Burst time  Arrival Time  Prremptive  Resources\n",
      "0       247         199        0.4100           0          8\n",
      "1        29         193        0.5925           1          2\n",
      "2       170          75        0.3600           1          4\n",
      "3       164          42        0.9725           0          8\n",
      "4       312         257        0.6125           0          4\n",
      "..      ...         ...           ...         ...        ...\n",
      "495     466         381        0.0725           0          8\n",
      "496     433          22        0.2350           0          2\n",
      "497     410         117        0.1675           0          8\n",
      "498      41          36        0.4300           0          8\n",
      "499     325         333        0.8825           1          5\n",
      "\n",
      "[500 rows x 5 columns]\n"
     ]
    }
   ],
   "metadata": {}
  },
  {
   "cell_type": "code",
   "execution_count": null,
   "source": [],
   "outputs": [],
   "metadata": {}
  },
  {
   "cell_type": "code",
   "execution_count": 53,
   "source": [
    "dataset = dataset.drop(columns = ['Job Id', 'Prremptive', 'Resources'])"
   ],
   "outputs": [],
   "metadata": {}
  },
  {
   "cell_type": "code",
   "execution_count": 54,
   "source": [
    "dataset = dataset * [1, 100]\n",
    "dataset = dataset.astype(int)"
   ],
   "outputs": [],
   "metadata": {}
  },
  {
   "cell_type": "code",
   "execution_count": 55,
   "source": [
    "columns_titles = [\"Arrival Time\",\"Burst time\"]\n",
    "dataset=dataset.reindex(columns=columns_titles)"
   ],
   "outputs": [],
   "metadata": {}
  },
  {
   "cell_type": "code",
   "execution_count": 56,
   "source": [
    "print(dataset)"
   ],
   "outputs": [
    {
     "output_type": "stream",
     "name": "stdout",
     "text": [
      "     Arrival Time  Burst time\n",
      "0              41         199\n",
      "1              59         193\n",
      "2              36          75\n",
      "3              97          42\n",
      "4              61         257\n",
      "..            ...         ...\n",
      "495             7         381\n",
      "496            23          22\n",
      "497            16         117\n",
      "498            43          36\n",
      "499            88         333\n",
      "\n",
      "[500 rows x 2 columns]\n"
     ]
    }
   ],
   "metadata": {}
  },
  {
   "cell_type": "code",
   "execution_count": 57,
   "source": [
    "dataset.to_csv('./../data/dataset_filtered.csv', index = False)"
   ],
   "outputs": [],
   "metadata": {}
  },
  {
   "cell_type": "code",
   "execution_count": null,
   "source": [],
   "outputs": [],
   "metadata": {}
  }
 ],
 "metadata": {
  "orig_nbformat": 4,
  "language_info": {
   "name": "python",
   "version": "3.6.9",
   "mimetype": "text/x-python",
   "codemirror_mode": {
    "name": "ipython",
    "version": 3
   },
   "pygments_lexer": "ipython3",
   "nbconvert_exporter": "python",
   "file_extension": ".py"
  },
  "kernelspec": {
   "name": "python3",
   "display_name": "Python 3.6.9 64-bit"
  },
  "interpreter": {
   "hash": "31f2aee4e71d21fbe5cf8b01ff0e069b9275f58929596ceb00d14d90e3e16cd6"
  }
 },
 "nbformat": 4,
 "nbformat_minor": 2
}