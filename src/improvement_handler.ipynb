{
 "cells": [
  {
   "cell_type": "code",
   "execution_count": 1,
   "metadata": {},
   "outputs": [],
   "source": [
    "import pandas as pd\n",
    "import numpy as np\n",
    "import matplotlib.pyplot as plt"
   ]
  },
  {
   "cell_type": "code",
   "execution_count": 2,
   "metadata": {},
   "outputs": [],
   "source": [
    "output_file = './../data/drrha_1/drrha_1_output.csv'"
   ]
  },
  {
   "cell_type": "code",
   "execution_count": 29,
   "metadata": {},
   "outputs": [],
   "source": [
    "dataset = pd.read_csv(\n",
    "    output_file, \n",
    "    sep=r'\\s*,\\s*', \n",
    "    header=0, \n",
    "    encoding='ascii', \n",
    "    engine='python'\n",
    ")\n",
    "\n",
    "dataset = dataset.loc[dataset['name'].isin(['DRRHA', 'MDRRHA', 'NDRRHA'])]\n",
    "# print(dataset)"
   ]
  },
  {
   "cell_type": "code",
   "execution_count": 30,
   "metadata": {},
   "outputs": [
    {
     "name": "stdout",
     "output_type": "stream",
     "text": [
      "[['DRRHA' 5 58.400002 37.799999 23.0 11]\n",
      " ['MDRRHA' 5 58.400002 37.799999 23.0 11]\n",
      " ['NDRRHA' 5 50.799999 30.200001 30.200001 6]\n",
      " ['DRRHA' 6 35.200001 17.0 17.0 7]\n",
      " ['MDRRHA' 6 37.0 18.799999 15.2 7]\n",
      " ['NDRRHA' 6 35.200001 17.0 17.0 5]]\n"
     ]
    }
   ],
   "source": [
    "dataset = dataset.to_numpy()\n",
    "print(dataset)"
   ]
  },
  {
   "cell_type": "code",
   "execution_count": 41,
   "metadata": {},
   "outputs": [],
   "source": [
    "def cal_improvement(val1, val2):\n",
    "    mean = (val1 + val2) / 2\n",
    "\n",
    "    improvement = (val1 - val2) / mean \n",
    "    improvement *= 100\n",
    "\n",
    "    return improvement"
   ]
  },
  {
   "cell_type": "code",
   "execution_count": 49,
   "metadata": {},
   "outputs": [
    {
     "name": "stdout",
     "output_type": "stream",
     "text": [
      "drrha_1_output.csv\n",
      "----- Case ------\n",
      "MDRRHA: Avg WT: 0.0\n",
      "NDRRHA: Avg WT: 22.352935294117646\n",
      "MDRRHA: Avg TAT: 0.0\n",
      "NDRRHA: Avg TAT: 13.919419286452205\n",
      "MDRRHA: CS: 0.0\n",
      "NDRRHA: CS: 58.82352941176471\n",
      "----- Case ------\n",
      "MDRRHA: Avg WT: -10.055860616085491\n",
      "NDRRHA: Avg WT: 0.0\n",
      "MDRRHA: Avg TAT: -4.986146745344227\n",
      "NDRRHA: Avg TAT: 0.0\n",
      "MDRRHA: CS: 0.0\n",
      "NDRRHA: CS: 33.33333333333333\n"
     ]
    }
   ],
   "source": [
    "i = 0\n",
    "n = len(dataset)\n",
    "\n",
    "metric_indices = [3, 2, 5]\n",
    "\n",
    "print(output_file.split('/')[-1])\n",
    "while i < n:\n",
    "    print('----- Case ------')\n",
    "    for col in metric_indices:\n",
    "        # print(\"MDRRHA\")\n",
    "        metric = 'Avg TAT: '\n",
    "        if col == 3:\n",
    "            metric = 'Avg WT: '\n",
    "        elif col == 5:\n",
    "            metric = 'CS: '\n",
    "        \n",
    "        print('MDRRHA: ' + metric + str(cal_improvement(dataset[i][col], dataset[i + 1][col])))\n",
    "\n",
    "        # print(\"NDRRHA\")\n",
    "        metric = 'Avg TAT: '\n",
    "        if col == 3:\n",
    "            metric = 'Avg WT: '\n",
    "        elif col == 5:\n",
    "            metric = 'CS: '\n",
    "        \n",
    "        print('NDRRHA: ' +  metric + str(cal_improvement(dataset[i][col], dataset[i + 2][col])))\n",
    "\n",
    "    i += 3\n",
    "    \n"
   ]
  },
  {
   "cell_type": "code",
   "execution_count": null,
   "metadata": {},
   "outputs": [],
   "source": [
    "drrha_1_output.csv\n",
    "Avg TAT: 13.919419286452205\n",
    "Avg WT: 22.352935294117646\n",
    "CS: 58.82352941176471\n",
    "Avg TAT: 0.0\n",
    "Avg WT: 0.0\n",
    "CS: 33.33333333333333"
   ]
  }
 ],
 "metadata": {
  "interpreter": {
   "hash": "31f2aee4e71d21fbe5cf8b01ff0e069b9275f58929596ceb00d14d90e3e16cd6"
  },
  "kernelspec": {
   "display_name": "Python 3.6.9 64-bit",
   "name": "python3"
  },
  "language_info": {
   "codemirror_mode": {
    "name": "ipython",
    "version": 3
   },
   "file_extension": ".py",
   "mimetype": "text/x-python",
   "name": "python",
   "nbconvert_exporter": "python",
   "pygments_lexer": "ipython3",
   "version": "3.6.9"
  },
  "orig_nbformat": 4
 },
 "nbformat": 4,
 "nbformat_minor": 2
}
