{
 "cells": [
  {
   "cell_type": "code",
   "execution_count": 10,
   "metadata": {},
   "outputs": [],
   "source": [
    "import pandas as pd\n",
    "import numpy as np\n",
    "import matplotlib.pyplot as plt"
   ]
  },
  {
   "cell_type": "code",
   "execution_count": 36,
   "metadata": {},
   "outputs": [],
   "source": [
    "# output_file = './../data/drrha_4/drrha_4_output.csv'\n",
    "# output_file = './../data/kaggle1/kaggle1_output.csv'\n",
    "output_file = './../data/random/random_AT_Z_output.csv'"
   ]
  },
  {
   "cell_type": "code",
   "execution_count": 37,
   "metadata": {},
   "outputs": [],
   "source": [
    "dataset = pd.read_csv(\n",
    "    output_file, \n",
    "    sep=r'\\s*,\\s*', \n",
    "    header=0, \n",
    "    encoding='ascii', \n",
    "    engine='python'\n",
    ")\n",
    "\n",
    "dataset = dataset.loc[dataset['name'].isin(['DRRHA', 'MDRRHA', 'NDRRHA'])]\n",
    "# print(dataset)"
   ]
  },
  {
   "cell_type": "code",
   "execution_count": 38,
   "metadata": {},
   "outputs": [],
   "source": [
    "dataset = dataset.to_numpy()\n",
    "# print(dataset)"
   ]
  },
  {
   "cell_type": "code",
   "execution_count": 23,
   "metadata": {},
   "outputs": [],
   "source": [
    "def cal_improvement(val1, val2):\n",
    "    mean = (val1 + val2) / 2\n",
    "\n",
    "    improvement = (val1 - val2) / mean \n",
    "    improvement *= 100\n",
    "\n",
    "    return improvement"
   ]
  },
  {
   "cell_type": "code",
   "execution_count": 49,
   "metadata": {},
   "outputs": [
    {
     "name": "stdout",
     "output_type": "stream",
     "text": [
      "36.84210526315789\n"
     ]
    }
   ],
   "source": [
    "imp = cal_improvement(\n",
    "    45, 31\n",
    ")\n",
    "\n",
    "print(imp)"
   ]
  },
  {
   "cell_type": "code",
   "execution_count": 39,
   "metadata": {},
   "outputs": [
    {
     "name": "stdout",
     "output_type": "stream",
     "text": [
      "random_AT_Z_output.csv\n",
      "----- Case 1 ------\n",
      "MDRRHA: Avg WT: 3.2812435041503627\n",
      "NDRRHA: Avg WT: 17.049588929004955\n",
      "MDRRHA: Avg TAT: 2.6360102210097147\n",
      "NDRRHA: Avg TAT: 13.516854312762003\n",
      "MDRRHA: CS: 5.128205128205128\n",
      "NDRRHA: CS: 58.06451612903226\n",
      "----- Case 2 ------\n",
      "MDRRHA: Avg WT: 0.7551582364784495\n",
      "NDRRHA: Avg WT: 13.956049635465273\n",
      "MDRRHA: Avg TAT: 0.7244479344104551\n",
      "NDRRHA: Avg TAT: 13.352786652097832\n",
      "MDRRHA: CS: 2.9268292682926833\n",
      "NDRRHA: CS: 63.29113924050633\n",
      "----- Case 3 ------\n",
      "MDRRHA: Avg WT: 0.3728952194145533\n",
      "NDRRHA: Avg WT: 13.323280714947433\n",
      "MDRRHA: Avg TAT: 0.3651831929773696\n",
      "NDRRHA: Avg TAT: 13.030318216541586\n",
      "MDRRHA: CS: 1.015228426395939\n",
      "NDRRHA: CS: 57.98045602605863\n",
      "----- Case 4 ------\n",
      "MDRRHA: Avg WT: 0.25903703467343453\n",
      "NDRRHA: Avg WT: 9.358182985117693\n",
      "MDRRHA: Avg TAT: 0.25540335690673294\n",
      "NDRRHA: Avg TAT: 9.221443619870376\n",
      "MDRRHA: CS: 2.0066889632107023\n",
      "NDRRHA: CS: 51.143451143451145\n",
      "----- Case 5 ------\n",
      "MDRRHA: Avg WT: -0.17681982697236698\n",
      "NDRRHA: Avg WT: 13.469150330875202\n",
      "MDRRHA: Avg TAT: -0.17496393887133257\n",
      "NDRRHA: Avg TAT: 13.318233008960915\n",
      "MDRRHA: CS: 0.5037783375314862\n",
      "NDRRHA: CS: 59.28338762214984\n",
      "----- Case 6 ------\n",
      "MDRRHA: Avg WT: 0.6504450894522702\n",
      "NDRRHA: Avg WT: 14.017770219013089\n",
      "MDRRHA: Avg TAT: 0.6449929519328226\n",
      "NDRRHA: Avg TAT: 13.89250553457157\n",
      "MDRRHA: CS: 1.4098690835850958\n",
      "NDRRHA: CS: 56.73940949935815\n",
      "----- Case 7 ------\n",
      "MDRRHA: Avg WT: 0.06721483998373877\n",
      "NDRRHA: Avg WT: 13.42409065845199\n",
      "MDRRHA: Avg TAT: 0.06675801910484382\n",
      "NDRRHA: Avg TAT: 13.324501877784392\n",
      "MDRRHA: CS: 2.337228714524207\n",
      "NDRRHA: CS: 57.59829968119023\n",
      "----- Case 8 ------\n",
      "MDRRHA: Avg WT: 0.029043841825018343\n",
      "NDRRHA: Avg WT: 13.651976164836544\n",
      "MDRRHA: Avg TAT: 0.028880157204818284\n",
      "NDRRHA: Avg TAT: 13.565179904840521\n",
      "MDRRHA: CS: 0.5714285714285714\n",
      "NDRRHA: CS: 59.2797783933518\n",
      "----- Case 9 ------\n",
      "MDRRHA: Avg WT: 0.6395563726112384\n",
      "NDRRHA: Avg WT: 14.142100464664672\n",
      "MDRRHA: Avg TAT: 0.6362338604116593\n",
      "NDRRHA: Avg TAT: 14.063531657420528\n",
      "MDRRHA: CS: 0.6253908692933083\n",
      "NDRRHA: CS: 58.91848264729621\n",
      "----- Case 10 ------\n",
      "MDRRHA: Avg WT: 0.7915833027143642\n",
      "NDRRHA: Avg WT: 13.738802629563981\n",
      "MDRRHA: Avg TAT: 0.7879190812283826\n",
      "NDRRHA: Avg TAT: 13.67126637316437\n",
      "MDRRHA: CS: 3.532008830022075\n",
      "NDRRHA: CS: 58.444288717589345\n",
      "----- Case 11 ------\n",
      "MDRRHA: Avg WT: 0.6977513510488569\n",
      "NDRRHA: Avg WT: 13.057462289830744\n",
      "MDRRHA: Avg TAT: 0.6948667311584494\n",
      "NDRRHA: Avg TAT: 13.000042267324478\n",
      "MDRRHA: CS: 3.0407062285434034\n",
      "NDRRHA: CS: 59.72396486825596\n"
     ]
    }
   ],
   "source": [
    "i = 0\n",
    "n = len(dataset)\n",
    "\n",
    "metric_indices = [3, 2, 5]\n",
    "\n",
    "print(output_file.split('/')[-1])\n",
    "while i < n:\n",
    "    print('----- Case ' + str(int(i / 3 + 1)) + ' ------')\n",
    "    for col in metric_indices:\n",
    "        # print(\"MDRRHA\")\n",
    "        metric = 'Avg TAT: '\n",
    "        if col == 3:\n",
    "            metric = 'Avg WT: '\n",
    "        elif col == 5:\n",
    "            metric = 'CS: '\n",
    "        \n",
    "        print('MDRRHA: ' + metric + str(cal_improvement(dataset[i][col], dataset[i + 1][col])))\n",
    "\n",
    "        # print(\"NDRRHA\")\n",
    "        metric = 'Avg TAT: '\n",
    "        if col == 3:\n",
    "            metric = 'Avg WT: '\n",
    "        elif col == 5:\n",
    "            metric = 'CS: '\n",
    "        \n",
    "        print('NDRRHA: ' +  metric + str(cal_improvement(dataset[i][col], dataset[i + 2][col])))\n",
    "\n",
    "    i += 3\n",
    "    \n"
   ]
  },
  {
   "cell_type": "code",
   "execution_count": null,
   "metadata": {},
   "outputs": [],
   "source": []
  }
 ],
 "metadata": {
  "interpreter": {
   "hash": "31f2aee4e71d21fbe5cf8b01ff0e069b9275f58929596ceb00d14d90e3e16cd6"
  },
  "kernelspec": {
   "display_name": "Python 3.6.9 64-bit",
   "name": "python3"
  },
  "language_info": {
   "codemirror_mode": {
    "name": "ipython",
    "version": 3
   },
   "file_extension": ".py",
   "mimetype": "text/x-python",
   "name": "python",
   "nbconvert_exporter": "python",
   "pygments_lexer": "ipython3",
   "version": "3.6.9"
  },
  "orig_nbformat": 4
 },
 "nbformat": 4,
 "nbformat_minor": 2
}
