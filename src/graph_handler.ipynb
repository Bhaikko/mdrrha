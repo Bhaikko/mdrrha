{
 "cells": [
  {
   "cell_type": "markdown",
   "source": [
    "# Graph Visualizer For Algorithms using CSV File"
   ],
   "metadata": {}
  },
  {
   "cell_type": "code",
   "execution_count": 1,
   "source": [
    "# Importing Modules\n",
    "import numpy as np\n",
    "import pandas as pd\n",
    "import matplotlib.pyplot as plt\n",
    "from matplotlib.patches import Rectangle, Patch\n",
    "from matplotlib.lines import Line2D"
   ],
   "outputs": [],
   "metadata": {}
  },
  {
   "cell_type": "code",
   "execution_count": 2,
   "source": [
    "# Import Data from CSV file\n",
    "dataset = pd.read_csv(\n",
    "    './../data/sample_FCFS_SJF_Comparison.csv', \n",
    "    sep=r'\\s*,\\s*', \n",
    "    header=0, \n",
    "    encoding='ascii', \n",
    "    engine='python'\n",
    ")\n",
    "\n",
    "print(dataset)\n"
   ],
   "outputs": [
    {
     "output_type": "stream",
     "name": "stdout",
     "text": [
      "          name  #cases  avgTAT  avgWT  nCS\n",
      "0  mDRRHA-fcfs       8    27.0    5.5   29\n",
      "1   mDRRHA-sjf       8    20.0    4.5   20\n",
      "2  mDRRHA-fcfs      10    27.0    5.5   29\n",
      "3   mDRRHA-sjf      10    20.0    4.5   20\n",
      "4  mDRRHA-fcfs       7    27.0    5.5   29\n",
      "5   mDRRHA-sjf       7    20.0    4.5   20\n",
      "6  mDRRHA-fcfs       7    27.0    5.5   29\n",
      "7   mDRRHA-sjf       7    20.0    4.5   20\n",
      "8  mDRRHA-fcfs       7    27.0    5.5   29\n",
      "9   mDRRHA-sjf       7    20.0    4.5   20\n"
     ]
    }
   ],
   "metadata": {}
  },
  {
   "cell_type": "code",
   "execution_count": 3,
   "source": [
    "MDRRHA_SJS_FCFS = 0\n",
    "ALGO_COMPARISONS_ATAT_BAR = 1\n",
    "ALGO_COMPARISONS_ATAT_LINE = 2\n",
    "ALGO_COMPARISONS_WT_BAR = 3\n",
    "ALGO_COMPARISONS_WT_LINE = 4"
   ],
   "outputs": [],
   "metadata": {}
  },
  {
   "cell_type": "code",
   "execution_count": 65,
   "source": [
    "# Comparison of mDRRHA with SJF and FCFS\n",
    "\n",
    "# Graph Configurations \n",
    "plt.figure(MDRRHA_SJS_FCFS)\n",
    "fig = plt.figure(figsize = (9, 9), dpi = 80)\n",
    "ax = fig.add_axes([.05, .1, .9, .85])\n",
    "\n",
    "X = dataset['name'].to_numpy()\n",
    "X_labels = []\n",
    "X_axis = []\n",
    "X_axis_lines = [0]\n",
    "X_axis_bars = []\n",
    "\n",
    "current_case_index = 1\n",
    "push_empty = False\n",
    "\n",
    "counter = 1\n",
    "for i in range(len(X)):\n",
    "    X_labels = np.append(X_labels, X[i])\n",
    "    X_axis.append(counter)\n",
    "    X_axis_bars.append(counter)\n",
    "\n",
    "    counter += 1\n",
    "    if push_empty:\n",
    "        push_empty = False\n",
    "        X_axis_lines.append(counter)\n",
    "        counter += 1\n",
    "\n",
    "    if i % 2 == 0:\n",
    "        X_labels = np.append(X_labels, 'Case ' + str(current_case_index))\n",
    "        current_case_index += 1\n",
    "        X_axis.append(counter)\n",
    "        counter += 1\n",
    "        push_empty = True\n",
    "\n",
    "ax.set_xticks(X_axis)\n",
    "ax.set_xticks(X_axis_lines, minor = True)\n",
    "ax.set_xticklabels(X_labels)\n",
    "\n",
    "# vertical alignment of xtick labels\n",
    "minor_axis_padding_up = -0.2\n",
    "vertical_align = []\n",
    "for i in range(0, len(X_labels)):\n",
    "    valueToPush = 0\n",
    "    if i % 3 == 1:\n",
    "        valueToPush = minor_axis_padding_up      \n",
    "\n",
    "    vertical_align.append(valueToPush)\n",
    "\n",
    "# Adding Lines to xTicks\n",
    "line_width = 0.025\n",
    "line_height = 125\n",
    "\n",
    "for i, (t, y) in enumerate(zip(ax.get_xticklabels(), vertical_align)):\n",
    "    if i % 3 == 0 or i % 3 == 2:\n",
    "        t.set_rotation(90)\n",
    "\n",
    "    t.set_y(y)\n",
    "\n",
    "\n",
    "ax.tick_params( axis='x', which='minor', direction='out', length=line_height )\n",
    "ax.tick_params( axis='x', which='major', bottom='off', top='off' )\n",
    "\n",
    "bar_width = 0.35\n",
    "padding_betweenbars = 0.05\n",
    "\n",
    "avgTAT_color = 'skyblue'\n",
    "avgWT_color = 'orange'\n",
    "nCS_color = 'khaki'\n",
    "\n",
    "ax.spines['top'].set_visible(False)\n",
    "ax.spines['right'].set_visible(False)\n",
    "# ax.spines['bottom'].set_visible(False)\n",
    "# ax.spines['left'].set_visible(False)\n",
    "\n",
    "# Plotting Bars\n",
    "current_bar_index = 0\n",
    "for index, x_axis in enumerate(X_axis_bars):\n",
    "    ax.bar(\n",
    "        x_axis - bar_width - padding_betweenbars, \n",
    "        dataset['avgTAT'][current_bar_index], \n",
    "        bar_width, \n",
    "        label = 'ATAT',\n",
    "        color = avgTAT_color\n",
    "    )\n",
    "\n",
    "    ax.bar(\n",
    "        x_axis, \n",
    "        dataset['avgWT'][current_bar_index], \n",
    "        bar_width, \n",
    "        label = 'AWT',\n",
    "        color = avgWT_color\n",
    "    )\n",
    "\n",
    "    ax.bar(\n",
    "        x_axis + bar_width + padding_betweenbars, \n",
    "        dataset['nCS'][current_bar_index], \n",
    "        bar_width, \n",
    "        label = 'CS',\n",
    "        color = nCS_color\n",
    "    )\n",
    "\n",
    "    current_bar_index += 1\n",
    "\n",
    "# Configuring Legend\n",
    "legend_elements = [\n",
    "    Patch(facecolor=avgTAT_color, edgecolor=avgTAT_color, label='ATAT'),\n",
    "    Patch(facecolor=avgWT_color, edgecolor=avgWT_color, label='AWT'),\n",
    "    Patch(facecolor=nCS_color, edgecolor=nCS_color, label='CS')\n",
    "]\n",
    "\n",
    "ax.legend(\n",
    "    handles = legend_elements, \n",
    "    loc = 'upper right',\n",
    "    bbox_to_anchor=(1.15, 1.01)\n",
    ")\n",
    "\n",
    "plt.xlabel('Algorithm\\'s Name', labelpad = 50)\n",
    "plt.ylabel('Milliseconds')\n",
    "plt.title('Comparison of the proposed model integrated with SJF and FCFS')\n",
    "# plt.legend()\n",
    "plt.show()\n"
   ],
   "outputs": [
    {
     "output_type": "display_data",
     "data": {
      "text/plain": [
       "<Figure size 432x288 with 0 Axes>"
      ]
     },
     "metadata": {}
    },
    {
     "output_type": "display_data",
     "data": {
      "image/png": "[encoded data removed]",
      "text/plain": [
       "<Figure size 720x720 with 1 Axes>"
      ]
     },
     "metadata": {
      "needs_background": "light"
     }
    }
   ],
   "metadata": {}
  },
  {
   "cell_type": "code",
   "execution_count": 23,
   "source": [
    "# Import Data from CSV file\n",
    "dataset = pd.read_csv(\n",
    "    './../data/sample_output.csv', \n",
    "    sep=r'\\s*,\\s*', \n",
    "    header=0, \n",
    "    encoding='ascii', \n",
    "    engine='python'\n",
    ")\n",
    "\n",
    "dataset = dataset.sort_values(by = ['#cases', 'name'])\n"
   ],
   "outputs": [],
   "metadata": {}
  },
  {
   "cell_type": "code",
   "execution_count": 24,
   "source": [
    "print(dataset)"
   ],
   "outputs": [
    {
     "output_type": "stream",
     "name": "stdout",
     "text": [
      "     name  #cases        avgTAT         avgWT   nCS\n",
      "2   DRRHA      10    714.599976    563.400024    33\n",
      "1      RR      10    935.299988    784.099976   156\n",
      "0     SJF      10    536.200012    385.000000     9\n",
      "5   DRRHA      50   4437.560059   4255.200195   139\n",
      "4      RR      50   6204.680176   6022.319824   933\n",
      "3     SJF      50   3276.320068   3093.959961    49\n",
      "8   DRRHA     100   9901.629883   9700.190430   300\n",
      "7      RR     100  13591.790039  13390.349609  2055\n",
      "6     SJF     100   6930.910156   6729.470215    99\n",
      "11  DRRHA     150  15610.953125  15407.946289   457\n",
      "10     RR     150  20963.439453  20760.433594  3106\n",
      "9     SJF     150  10625.740234  10422.733398   149\n",
      "14  DRRHA     200  20853.500000  20649.699219   617\n",
      "13     RR     200  27874.125000  27670.324219  4161\n",
      "12    SJF     200  14065.620117  13861.820312   199\n"
     ]
    }
   ],
   "metadata": {}
  },
  {
   "cell_type": "code",
   "execution_count": 30,
   "source": [
    "# Comparison of Algos Average Waiting Time and Number of Tasks\n",
    "\n",
    "# Graph Configurations \n",
    "plt.figure(ALGO_COMPARISONS_WT_BAR)\n",
    "fig = plt.figure(figsize = (9, 9), dpi = 80)\n",
    "ax = fig.add_axes([.05, .1, .9, .85])\n",
    "\n",
    "X = dataset['#cases'].unique()\n",
    "X_labels = []\n",
    "X_axis = []\n",
    "X_axis_lines = [0]\n",
    "\n",
    "current_case_index = 1\n",
    "push_empty = False\n",
    "\n",
    "counter = 1\n",
    "for i in range(len(X)):\n",
    "    X_labels = np.append(X_labels, X[i])\n",
    "    X_axis.append(counter)\n",
    "    counter += 1\n",
    "\n",
    "    X_axis_lines.append(counter)\n",
    "    counter += 1\n",
    "\n",
    "X_labels = X_labels.astype(int)\n",
    "\n",
    "ax.set_xticks(X_axis)\n",
    "ax.set_xticks(X_axis_lines, minor = True)\n",
    "ax.set_xticklabels(X_labels)\n",
    "\n",
    "# Adding Lines to xTicks\n",
    "line_width = 0.025\n",
    "line_height = 10\n",
    "\n",
    "ax.tick_params( axis='x', which='minor', direction='out', length=line_height )\n",
    "ax.tick_params( axis='x', which='major', bottom='off', top='off' )\n",
    "\n",
    "colors = [\n",
    "    'skyblue', 'DRRHA',\n",
    "    'orange', 'SJF',\n",
    "    'khaki', 'RR'\n",
    "    # 'red', 'MDRRHA'\n",
    "]\n",
    "\n",
    "bar_width = 0.15\n",
    "paddings = [\n",
    "    -bar_width - 0.05, \n",
    "    0, \n",
    "    bar_width + 0.05, \n",
    "    2 * bar_width + 0.10\n",
    "]\n",
    "\n",
    "ax.spines['top'].set_visible(False)\n",
    "ax.spines['right'].set_visible(False)\n",
    "# ax.spines['bottom'].set_visible(False)\n",
    "# ax.spines['left'].set_visible(False)\n",
    "\n",
    "# Plotting Bars\n",
    "current_value_index = 0\n",
    "num_algos = len(dataset['name'].unique())\n",
    "average_WT_values = dataset['avgWT'].to_numpy()     # To Plot Average Waiting Times\n",
    "# average_WT_values = dataset['avgTAT'].to_numpy()       # To Plot Average Turn around times\n",
    "\n",
    "\n",
    "for index, x_axis in enumerate(X_axis):\n",
    "    for i in range(0, num_algos):\n",
    "        ax.bar(\n",
    "            x_axis + paddings[i], \n",
    "            average_WT_values[current_value_index], \n",
    "            bar_width, \n",
    "            color = colors[2 * i]\n",
    "        )\n",
    "\n",
    "        current_value_index += 1\n",
    "\n",
    "# Configuring Legend\n",
    "legend_elements = []\n",
    "\n",
    "for i in range(0, len(colors), 2):\n",
    "    legend_elements.append(\n",
    "        Patch(facecolor=colors[i], edgecolor=colors[i], label=colors[i + 1])\n",
    "    )\n",
    "\n",
    "ax.legend(\n",
    "    handles = legend_elements, \n",
    "    loc = 'upper right',\n",
    "    bbox_to_anchor=(1.20, 1.01)\n",
    ")\n",
    "\n",
    "plt.xlabel('Number of Tasks', labelpad = 20)\n",
    "\n",
    "plt.ylabel('Average Waiting Time. (Milliseconds)')\n",
    "# plt.ylabel('Average Turnaround Time. (Milliseconds)')\n",
    "\n",
    "# plt.title('Evalulation of the average Waiting time.')\n",
    "# plt.title('Evalulation of the average turnaround time.')\n",
    "plt.show()\n"
   ],
   "outputs": [
    {
     "output_type": "display_data",
     "data": {
      "text/plain": [
       "<Figure size 432x288 with 0 Axes>"
      ]
     },
     "metadata": {}
    },
    {
     "output_type": "display_data",
     "data": {
      "image/png": "[encoded data removed]",
      "text/plain": [
       "<Figure size 720x720 with 1 Axes>"
      ]
     },
     "metadata": {
      "needs_background": "light"
     }
    }
   ],
   "metadata": {}
  },
  {
   "cell_type": "code",
   "execution_count": 31,
   "source": [
    "# Import Data from CSV file\n",
    "dataset = pd.read_csv(\n",
    "    './../data/sample_output.csv', \n",
    "    sep=r'\\s*,\\s*', \n",
    "    header=0, \n",
    "    encoding='ascii', \n",
    "    engine='python'\n",
    ")\n",
    "\n",
    "# dataset = dataset.loc[dataset['name'].isin(['SJF', 'DRRHA'])]\n",
    "\n",
    "sjf_values = dataset.loc[dataset['name'] == 'SJF']\n",
    "drrha_values = dataset.loc[dataset['name'] == 'DRRHA']\n",
    "\n",
    "dataset = dataset.sort_values(by = ['#cases', 'name'])\n",
    "\n",
    "print(sjf_values)\n",
    "print(drrha_values)"
   ],
   "outputs": [
    {
     "output_type": "stream",
     "name": "stdout",
     "text": [
      "   name  #cases        avgTAT         avgWT  nCS\n",
      "0   SJF      10    536.200012    385.000000    9\n",
      "3   SJF      50   3276.320068   3093.959961   49\n",
      "6   SJF     100   6930.910156   6729.470215   99\n",
      "9   SJF     150  10625.740234  10422.733398  149\n",
      "12  SJF     200  14065.620117  13861.820312  199\n",
      "     name  #cases        avgTAT         avgWT  nCS\n",
      "2   DRRHA      10    714.599976    563.400024   33\n",
      "5   DRRHA      50   4437.560059   4255.200195  139\n",
      "8   DRRHA     100   9901.629883   9700.190430  300\n",
      "11  DRRHA     150  15610.953125  15407.946289  457\n",
      "14  DRRHA     200  20853.500000  20649.699219  617\n"
     ]
    }
   ],
   "metadata": {}
  },
  {
   "cell_type": "code",
   "execution_count": 35,
   "source": [
    "# Line Graph Comparison of DRRHA and STF Average Waiting Time and Number of Tasks\n",
    "\n",
    "# Graph Configurations \n",
    "plt.figure(ALGO_COMPARISONS_WT_LINE)\n",
    "fig = plt.figure(figsize = (9, 9), dpi = 80)\n",
    "ax = fig.add_axes([.05, .1, .9, .85])\n",
    "\n",
    "X = dataset['#cases'].unique()\n",
    "X_labels = []\n",
    "X_axis = []\n",
    "X_axis_lines = [0]\n",
    "\n",
    "current_case_index = 1\n",
    "push_empty = False\n",
    "\n",
    "counter = 1\n",
    "for i in range(len(X)):\n",
    "    X_labels = np.append(X_labels, X[i])\n",
    "    X_axis.append(counter)\n",
    "    counter += 1\n",
    "\n",
    "    X_axis_lines.append(counter)\n",
    "    counter += 1\n",
    "\n",
    "X_labels = X_labels.astype(int)\n",
    "\n",
    "ax.set_xticks(X_axis)\n",
    "ax.set_xticks(X_axis_lines, minor = True)\n",
    "ax.set_xticklabels(X_labels)\n",
    "\n",
    "# Adding Lines to xTicks\n",
    "line_width = 0.025\n",
    "line_height = 10\n",
    "\n",
    "ax.tick_params( axis='x', which='minor', direction='out', length=line_height )\n",
    "ax.tick_params( axis='x', which='major', bottom='off', top='off' )\n",
    "\n",
    "colors = [\n",
    "    'skyblue', 'DRRHA',\n",
    "    'orange', 'SJF'\n",
    "]\n",
    "\n",
    "ax.spines['top'].set_visible(False)\n",
    "ax.spines['right'].set_visible(False)\n",
    "# ax.spines['bottom'].set_visible(False)\n",
    "# ax.spines['left'].set_visible(False)\n",
    "\n",
    "# Plotting Bars\n",
    "marker_size = 250\n",
    "\n",
    "# plot_metric = 'avgWT'\n",
    "plot_metric = 'avgTAT'\n",
    "\n",
    "ax.plot(X_axis, sjf_values[plot_metric].to_numpy(), color = colors[2])\n",
    "plt.scatter(X_axis, sjf_values[plot_metric].to_numpy(), marker = 's', s = marker_size, color = colors[2])\n",
    "\n",
    "ax.plot(X_axis, drrha_values[plot_metric].to_numpy(), color = colors[0])\n",
    "plt.scatter(X_axis, drrha_values[plot_metric].to_numpy(), marker = 'p', s = marker_size, color = colors[0])\n",
    "\n",
    "# Configuring Legend\n",
    "legend_elements = []\n",
    "\n",
    "for i in range(0, len(colors), 2):\n",
    "    legend_elements.append(\n",
    "        Patch(facecolor=colors[i], edgecolor=colors[i], label=colors[i + 1])\n",
    "    )\n",
    "\n",
    "ax.legend(\n",
    "    handles = legend_elements, \n",
    "    loc = 'upper right',\n",
    "    bbox_to_anchor=(1.20, 1.01)\n",
    ")\n",
    "\n",
    "plt.xlabel('Number of Tasks', labelpad = 20)\n",
    "plt.ylabel('Average Waiting Time. (Milliseconds)')\n",
    "# plt.ylabel('Average Turnaround Time. (Milliseconds)')\n",
    "# plt.title('Comparison of the average Waiting time of SJF and DRRHA.')\n",
    "plt.show()"
   ],
   "outputs": [
    {
     "output_type": "display_data",
     "data": {
      "text/plain": [
       "<Figure size 432x288 with 0 Axes>"
      ]
     },
     "metadata": {}
    },
    {
     "output_type": "display_data",
     "data": {
      "image/png": "[encoded data removed]",
      "text/plain": [
       "<Figure size 720x720 with 1 Axes>"
      ]
     },
     "metadata": {
      "needs_background": "light"
     }
    }
   ],
   "metadata": {}
  },
  {
   "cell_type": "code",
   "execution_count": null,
   "source": [],
   "outputs": [],
   "metadata": {}
  }
 ],
 "metadata": {
  "orig_nbformat": 4,
  "language_info": {
   "name": "python",
   "version": "3.6.9",
   "mimetype": "text/x-python",
   "codemirror_mode": {
    "name": "ipython",
    "version": 3
   },
   "pygments_lexer": "ipython3",
   "nbconvert_exporter": "python",
   "file_extension": ".py"
  },
  "kernelspec": {
   "name": "python3",
   "display_name": "Python 3.6.9 64-bit"
  },
  "interpreter": {
   "hash": "31f2aee4e71d21fbe5cf8b01ff0e069b9275f58929596ceb00d14d90e3e16cd6"
  }
 },
 "nbformat": 4,
 "nbformat_minor": 2
}