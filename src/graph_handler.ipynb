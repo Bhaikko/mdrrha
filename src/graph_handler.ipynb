{
 "cells": [
  {
   "cell_type": "markdown",
   "source": [
    "# Graph Visualizer For Algorithms using CSV File"
   ],
   "metadata": {}
  },
  {
   "cell_type": "code",
   "execution_count": 2,
   "source": [
    "# Importing Modules\r\n",
    "import numpy as np\r\n",
    "import pandas as pd\r\n",
    "import matplotlib.pyplot as plt\r\n",
    "from matplotlib.patches import Rectangle, Patch\r\n",
    "from matplotlib.lines import Line2D"
   ],
   "outputs": [],
   "metadata": {}
  },
  {
   "cell_type": "code",
   "execution_count": 9,
   "source": [
    "# Import Data from CSV file\r\n",
    "dataset = pd.read_csv(\r\n",
    "    './../data/sample_FCFS_SJF_Comparison.csv', \r\n",
    "    sep=r'\\s*,\\s*', \r\n",
    "    header=0, \r\n",
    "    encoding='ascii', \r\n",
    "    engine='python'\r\n",
    ")\r\n",
    "\r\n",
    "print(dataset)\r\n"
   ],
   "outputs": [
    {
     "output_type": "stream",
     "name": "stdout",
     "text": [
      "          name  #cases  avgTAT  avgWT  nCS\n",
      "0  mDRRHA-fcfs       8    27.0    5.5   29\n",
      "1   mDRRHA-sjf       8    20.0    4.5   20\n",
      "2  mDRRHA-fcfs      10    27.0    5.5   29\n",
      "3   mDRRHA-sjf      10    20.0    4.5   20\n",
      "4  mDRRHA-fcfs       7    27.0    5.5   29\n",
      "5   mDRRHA-sjf       7    20.0    4.5   20\n",
      "6  mDRRHA-fcfs       7    27.0    5.5   29\n",
      "7   mDRRHA-sjf       7    20.0    4.5   20\n",
      "8  mDRRHA-fcfs       7    27.0    5.5   29\n",
      "9   mDRRHA-sjf       7    20.0    4.5   20\n"
     ]
    }
   ],
   "metadata": {}
  },
  {
   "cell_type": "code",
   "execution_count": 10,
   "source": [
    "MDRRHA_SJS_FCFS = 0\r\n",
    "ALGO_COMPARISONS_ATAT_BAR = 1\r\n",
    "ALGO_COMPARISONS_ATAT_LINE = 2\r\n",
    "ALGO_COMPARISONS_WT_BAR = 3\r\n",
    "ALGO_COMPARISONS_WT_LINE = 4"
   ],
   "outputs": [],
   "metadata": {}
  },
  {
   "cell_type": "code",
   "execution_count": 11,
   "source": [
    "# Comparison of mDRRHA with SJF and FCFS\r\n",
    "\r\n",
    "# Graph Configurations \r\n",
    "plt.figure(MDRRHA_SJS_FCFS)\r\n",
    "fig = plt.figure(figsize = (9, 9), dpi = 80)\r\n",
    "ax = fig.add_axes([.05, .1, .9, .85])\r\n",
    "\r\n",
    "X = dataset['name'].to_numpy()\r\n",
    "X_labels = []\r\n",
    "X_axis = []\r\n",
    "X_axis_lines = [0]\r\n",
    "X_axis_bars = []\r\n",
    "\r\n",
    "current_case_index = 1\r\n",
    "push_empty = False\r\n",
    "\r\n",
    "counter = 1\r\n",
    "for i in range(len(X)):\r\n",
    "    X_labels = np.append(X_labels, X[i])\r\n",
    "    X_axis.append(counter)\r\n",
    "    X_axis_bars.append(counter)\r\n",
    "\r\n",
    "    counter += 1\r\n",
    "    if push_empty:\r\n",
    "        push_empty = False\r\n",
    "        X_axis_lines.append(counter)\r\n",
    "        counter += 1\r\n",
    "\r\n",
    "    if i % 2 == 0:\r\n",
    "        X_labels = np.append(X_labels, 'Case ' + str(current_case_index))\r\n",
    "        current_case_index += 1\r\n",
    "        X_axis.append(counter)\r\n",
    "        counter += 1\r\n",
    "        push_empty = True\r\n",
    "\r\n",
    "ax.set_xticks(X_axis)\r\n",
    "ax.set_xticks(X_axis_lines, minor = True)\r\n",
    "ax.set_xticklabels(X_labels)\r\n",
    "\r\n",
    "# vertical alignment of xtick labels\r\n",
    "minor_axis_padding_up = -0.2\r\n",
    "vertical_align = []\r\n",
    "for i in range(0, len(X_labels)):\r\n",
    "    valueToPush = 0\r\n",
    "    if i % 3 == 1:\r\n",
    "        valueToPush = minor_axis_padding_up      \r\n",
    "\r\n",
    "    vertical_align.append(valueToPush)\r\n",
    "\r\n",
    "# Adding Lines to xTicks\r\n",
    "line_width = 0.025\r\n",
    "line_height = 125\r\n",
    "\r\n",
    "for i, (t, y) in enumerate(zip(ax.get_xticklabels(), vertical_align)):\r\n",
    "    if i % 3 == 0 or i % 3 == 2:\r\n",
    "        t.set_rotation(90)\r\n",
    "\r\n",
    "    t.set_y(y)\r\n",
    "\r\n",
    "\r\n",
    "ax.tick_params( axis='x', which='minor', direction='out', length=line_height )\r\n",
    "ax.tick_params( axis='x', which='major', bottom='off', top='off' )\r\n",
    "\r\n",
    "bar_width = 0.35\r\n",
    "padding_betweenbars = 0.05\r\n",
    "\r\n",
    "avgTAT_color = 'skyblue'\r\n",
    "avgWT_color = 'orange'\r\n",
    "nCS_color = 'khaki'\r\n",
    "\r\n",
    "ax.spines['top'].set_visible(False)\r\n",
    "ax.spines['right'].set_visible(False)\r\n",
    "# ax.spines['bottom'].set_visible(False)\r\n",
    "# ax.spines['left'].set_visible(False)\r\n",
    "\r\n",
    "# Plotting Bars\r\n",
    "current_bar_index = 0\r\n",
    "for index, x_axis in enumerate(X_axis_bars):\r\n",
    "    ax.bar(\r\n",
    "        x_axis - bar_width - padding_betweenbars, \r\n",
    "        dataset['avgTAT'][current_bar_index], \r\n",
    "        bar_width, \r\n",
    "        label = 'ATAT',\r\n",
    "        color = avgTAT_color\r\n",
    "    )\r\n",
    "\r\n",
    "    ax.bar(\r\n",
    "        x_axis, \r\n",
    "        dataset['avgWT'][current_bar_index], \r\n",
    "        bar_width, \r\n",
    "        label = 'AWT',\r\n",
    "        color = avgWT_color\r\n",
    "    )\r\n",
    "\r\n",
    "    ax.bar(\r\n",
    "        x_axis + bar_width + padding_betweenbars, \r\n",
    "        dataset['nCS'][current_bar_index], \r\n",
    "        bar_width, \r\n",
    "        label = 'CS',\r\n",
    "        color = nCS_color\r\n",
    "    )\r\n",
    "\r\n",
    "    current_bar_index += 1\r\n",
    "\r\n",
    "# Configuring Legend\r\n",
    "legend_elements = [\r\n",
    "    Patch(facecolor=avgTAT_color, edgecolor=avgTAT_color, label='ATAT'),\r\n",
    "    Patch(facecolor=avgWT_color, edgecolor=avgWT_color, label='AWT'),\r\n",
    "    Patch(facecolor=nCS_color, edgecolor=nCS_color, label='CS')\r\n",
    "]\r\n",
    "\r\n",
    "ax.legend(\r\n",
    "    handles = legend_elements, \r\n",
    "    loc = 'upper right',\r\n",
    "    bbox_to_anchor=(1.15, 1.01)\r\n",
    ")\r\n",
    "\r\n",
    "plt.xlabel('Algorithm\\'s Name', labelpad = 50)\r\n",
    "plt.ylabel('Milliseconds')\r\n",
    "plt.title('Comparison of the proposed model integrated with SJF and FCFS')\r\n",
    "# plt.legend()\r\n",
    "plt.show()\r\n"
   ],
   "outputs": [
    {
     "output_type": "display_data",
     "data": {
      "text/plain": [
       "<Figure size 432x288 with 0 Axes>"
      ]
     },
     "metadata": {}
    },
    {
     "output_type": "display_data",
     "data": {
      "image/png": "[encoded data removed]",
      "text/plain": [
       "<Figure size 720x720 with 1 Axes>"
      ]
     },
     "metadata": {
      "needs_background": "light"
     }
    }
   ],
   "metadata": {}
  },
  {
   "cell_type": "code",
   "execution_count": 7,
   "source": [
    "# Import Data from CSV file\r\n",
    "dataset = pd.read_csv(\r\n",
    "    './../data/output.csv', \r\n",
    "    sep=r'\\s*,\\s*', \r\n",
    "    header=0, \r\n",
    "    encoding='ascii', \r\n",
    "    engine='python'\r\n",
    ")\r\n",
    "\r\n",
    "dataset = dataset.sort_values(by = ['#cases', 'name'])\r\n"
   ],
   "outputs": [],
   "metadata": {}
  },
  {
   "cell_type": "code",
   "execution_count": 5,
   "source": [
    "print(dataset)"
   ],
   "outputs": [
    {
     "output_type": "stream",
     "name": "stdout",
     "text": [
      "      name  #cases     avgTAT      avgWT  nCS\n",
      "1    DRRHA      10  24.500000   8.000000   20\n",
      "0       RR      10  31.000000   1.500000   18\n",
      "3      SJF      10  23.000000   9.500000   27\n",
      "2   mDRRHA      10  27.000000   5.500000   29\n",
      "5    DRRHA      50  24.500000   8.000000   20\n",
      "4       RR      50  31.000000   1.500000   18\n",
      "7      SJF      50  23.000000   9.500000   27\n",
      "6   mDRRHA      50  27.000000   5.500000   29\n",
      "9    DRRHA     100  24.500000   8.000000   20\n",
      "8       RR     100  31.000000   1.500000   18\n",
      "11     SJF     100  23.000000   9.500000   27\n",
      "10  mDRRHA     100  27.000000   5.500000   29\n",
      "13   DRRHA     150  24.500000   8.000000   20\n",
      "12      RR     150  23.555555  19.111111   16\n",
      "15     SJF     150  23.000000   9.500000   27\n",
      "14  mDRRHA     150  27.000000   5.500000   29\n"
     ]
    }
   ],
   "metadata": {}
  },
  {
   "cell_type": "code",
   "execution_count": 8,
   "source": [
    "# Comparison of Algos Average Waiting Time and Number of Tasks\r\n",
    "\r\n",
    "# Graph Configurations \r\n",
    "plt.figure(ALGO_COMPARISONS_WT_BAR)\r\n",
    "fig = plt.figure(figsize = (9, 9), dpi = 80)\r\n",
    "ax = fig.add_axes([.05, .1, .9, .85])\r\n",
    "\r\n",
    "X = dataset['#cases'].unique()\r\n",
    "X_labels = []\r\n",
    "X_axis = []\r\n",
    "X_axis_lines = [0]\r\n",
    "\r\n",
    "current_case_index = 1\r\n",
    "push_empty = False\r\n",
    "\r\n",
    "counter = 1\r\n",
    "for i in range(len(X)):\r\n",
    "    X_labels = np.append(X_labels, X[i])\r\n",
    "    X_axis.append(counter)\r\n",
    "    counter += 1\r\n",
    "\r\n",
    "    X_axis_lines.append(counter)\r\n",
    "    counter += 1\r\n",
    "\r\n",
    "X_labels = X_labels.astype(int)\r\n",
    "\r\n",
    "ax.set_xticks(X_axis)\r\n",
    "ax.set_xticks(X_axis_lines, minor = True)\r\n",
    "ax.set_xticklabels(X_labels)\r\n",
    "\r\n",
    "# Adding Lines to xTicks\r\n",
    "line_width = 0.025\r\n",
    "line_height = 10\r\n",
    "\r\n",
    "ax.tick_params( axis='x', which='minor', direction='out', length=line_height )\r\n",
    "ax.tick_params( axis='x', which='major', bottom='off', top='off' )\r\n",
    "\r\n",
    "colors = [\r\n",
    "    'skyblue', 'DRRHA',\r\n",
    "    'orange', 'SJF',\r\n",
    "    'khaki', 'RR', \r\n",
    "    'red', 'MDRRHA'\r\n",
    "]\r\n",
    "\r\n",
    "bar_width = 0.15\r\n",
    "paddings = [\r\n",
    "    -bar_width - 0.05, \r\n",
    "    0, \r\n",
    "    bar_width + 0.05, \r\n",
    "    2 * bar_width + 0.10\r\n",
    "]\r\n",
    "\r\n",
    "ax.spines['top'].set_visible(False)\r\n",
    "ax.spines['right'].set_visible(False)\r\n",
    "# ax.spines['bottom'].set_visible(False)\r\n",
    "# ax.spines['left'].set_visible(False)\r\n",
    "\r\n",
    "# Plotting Bars\r\n",
    "current_value_index = 0\r\n",
    "num_algos = len(dataset['name'].unique())\r\n",
    "average_WT_values = dataset['avgWT'].to_numpy()\r\n",
    "\r\n",
    "for index, x_axis in enumerate(X_axis):\r\n",
    "    for i in range(0, num_algos):\r\n",
    "        ax.bar(\r\n",
    "            x_axis + paddings[i], \r\n",
    "            average_WT_values[current_value_index], \r\n",
    "            bar_width, \r\n",
    "            color = colors[2 * i]\r\n",
    "        )\r\n",
    "\r\n",
    "        current_value_index += 1\r\n",
    "\r\n",
    "# Configuring Legend\r\n",
    "legend_elements = []\r\n",
    "\r\n",
    "for i in range(0, len(colors), 2):\r\n",
    "    legend_elements.append(\r\n",
    "        Patch(facecolor=colors[i], edgecolor=colors[i], label=colors[i + 1])\r\n",
    "    )\r\n",
    "\r\n",
    "ax.legend(\r\n",
    "    handles = legend_elements, \r\n",
    "    loc = 'upper right',\r\n",
    "    bbox_to_anchor=(1.20, 1.01)\r\n",
    ")\r\n",
    "\r\n",
    "plt.xlabel('Number of Tasks', labelpad = 20)\r\n",
    "plt.ylabel('Average Waiting Time')\r\n",
    "plt.title('Evalulation of the average Waiting time.')\r\n",
    "plt.show()\r\n"
   ],
   "outputs": [
    {
     "output_type": "display_data",
     "data": {
      "text/plain": [
       "<Figure size 432x288 with 0 Axes>"
      ]
     },
     "metadata": {}
    },
    {
     "output_type": "display_data",
     "data": {
      "image/png": "[encoded data removed]",
      "text/plain": [
       "<Figure size 720x720 with 1 Axes>"
      ]
     },
     "metadata": {
      "needs_background": "light"
     }
    }
   ],
   "metadata": {}
  },
  {
   "cell_type": "code",
   "execution_count": null,
   "source": [],
   "outputs": [],
   "metadata": {}
  }
 ],
 "metadata": {
  "orig_nbformat": 4,
  "language_info": {
   "name": "python",
   "version": "3.7.3",
   "mimetype": "text/x-python",
   "codemirror_mode": {
    "name": "ipython",
    "version": 3
   },
   "pygments_lexer": "ipython3",
   "nbconvert_exporter": "python",
   "file_extension": ".py"
  },
  "kernelspec": {
   "name": "python3",
   "display_name": "Python 3.7.3 32-bit"
  },
  "interpreter": {
   "hash": "8e61c9422603e3d3820d3aeca1b8eefe471d1a1023a28a3903412dc32402bf43"
  }
 },
 "nbformat": 4,
 "nbformat_minor": 2
}