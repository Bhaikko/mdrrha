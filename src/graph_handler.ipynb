{
 "cells": [
  {
   "cell_type": "markdown",
   "source": [
    "# Graph Visualizer For Algorithms using CSV File"
   ],
   "metadata": {}
  },
  {
   "cell_type": "code",
   "execution_count": 2,
   "source": [
    "# Importing Modules\n",
    "import numpy as np\n",
    "import pandas as pd\n",
    "import matplotlib.pyplot as plt\n",
    "from matplotlib.patches import Rectangle"
   ],
   "outputs": [],
   "metadata": {}
  },
  {
   "cell_type": "code",
   "execution_count": 3,
   "source": [
    "# Import Data from CSV file\n",
    "dataset = pd.read_csv(\n",
    "    './../data/sample_FCFS_SJF_Comparison.csv', \n",
    "    sep=r'\\s*,\\s*', \n",
    "    header=0, \n",
    "    encoding='ascii', \n",
    "    engine='python'\n",
    ")\n",
    "\n",
    "print(dataset)\n"
   ],
   "outputs": [
    {
     "output_type": "stream",
     "name": "stdout",
     "text": [
      "          name  #cases  avgTAT  avgWT  nCS\n",
      "0  mDRRHA-fcfs       8    27.0    5.5   29\n",
      "1   mDRRHA-sjf       8    20.0    4.5   20\n",
      "2  mDRRHA-fcfs      10    27.0    5.5   29\n",
      "3   mDRRHA-sjf      10    20.0    4.5   20\n",
      "4  mDRRHA-fcfs       7    27.0    5.5   29\n",
      "5   mDRRHA-sjf       7    20.0    4.5   20\n",
      "6  mDRRHA-fcfs       7    27.0    5.5   29\n",
      "7   mDRRHA-sjf       7    20.0    4.5   20\n"
     ]
    }
   ],
   "metadata": {}
  },
  {
   "cell_type": "code",
   "execution_count": 4,
   "source": [
    "MDRRHA_SJS_FCFS = 0\n",
    "ALGO_COMPARISONS = 1"
   ],
   "outputs": [],
   "metadata": {}
  },
  {
   "cell_type": "code",
   "execution_count": 5,
   "source": [
    "def drawPatch(ax, x, y, width, height):\n",
    "    ax.add_patch(Rectangle(\n",
    "        (x, y), \n",
    "        width, \n",
    "        height, \n",
    "        fill=True, \n",
    "        clip_on=False,\n",
    "        color = 'grey'\n",
    "    ))"
   ],
   "outputs": [],
   "metadata": {}
  },
  {
   "cell_type": "code",
   "execution_count": 18,
   "source": [
    "# Comparison of mDRRHA with SJF and FCFS\n",
    "\n",
    "# Graph Configurations \n",
    "plt.figure(MDRRHA_SJS_FCFS)\n",
    "fig = plt.figure(figsize = (8, 8), dpi = 80)\n",
    "ax = fig.add_axes([.05, .1, .9, .85])\n",
    "\n",
    "X = dataset['name'].to_numpy()\n",
    "X_labels = []\n",
    "\n",
    "current_case_index = 1\n",
    "push_empty = False\n",
    "\n",
    "for i in range(len(X)):\n",
    "    X_labels = np.append(X_labels, X[i])\n",
    "\n",
    "    if push_empty:\n",
    "        push_empty = False\n",
    "        X_labels = np.append(X_labels, ' ')\n",
    "        # X_lines.append(i)\n",
    "\n",
    "    if i % 2 == 0:\n",
    "        X_labels = np.append(X_labels, 'Case ' + str(current_case_index))\n",
    "        current_case_index += 1\n",
    "        push_empty = True\n",
    "        \n",
    "X_axis = np.arange(len(X_labels)) + 1\n",
    "X_axis = X_axis\n",
    "\n",
    "ax.set_xticks(X_axis)\n",
    "ax.set_xticklabels(X_labels)\n",
    "\n",
    "# vertical alignment of xtick labels\n",
    "minor_axis_padding_up = -0.2\n",
    "vertical_align = []\n",
    "for i in range(0, len(X_labels)):\n",
    "    valueToPush = 0\n",
    "    if i % 4 == 1:\n",
    "        valueToPush = minor_axis_padding_up      \n",
    "\n",
    "    vertical_align.append(valueToPush)\n",
    "\n",
    "# Adding Lines to xTicks\n",
    "line_width = 0.025\n",
    "line_height = 0.30\n",
    "\n",
    "for i, (t, y) in enumerate(zip(ax.get_xticklabels(), vertical_align)):\n",
    "    if i == 0:\n",
    "        drawPatch(ax, 0, -line_height, line_width, line_height)\n",
    "    if i % 4 == 3:\n",
    "        drawPatch(ax, t.get_position()[0], -line_height, line_width, line_height)\n",
    "    if i % 2 == 0:\n",
    "        t.set_rotation(90)\n",
    "\n",
    "    t.set_y(y)\n",
    "\n",
    "# bar_width = 0.2\n",
    "# plt.bar(X_axis - bar_width - 0.025, dataset['avgTAT'],bar_width, label = 'ATAT')\n",
    "# plt.bar(X_axis, dataset['avgWT'],bar_width, label = 'AWT')\n",
    "# plt.bar(X_axis + bar_width + 0.025, dataset['nCS'],bar_width, label = 'CS')\n",
    "\n",
    "plt.xlabel('Algorithm\\'s Name', labelpad = 50)\n",
    "plt.ylabel('Milliseconds')\n",
    "plt.title('Comparison of the proposed model integrated with SJF and FCFS')\n",
    "plt.legend()\n",
    "plt.show()\n",
    "\n",
    "# TODO: Change Legend Position\n",
    "# https://stackoverflow.com/questions/4700614/how-to-put-the-legend-out-of-the-plot"
   ],
   "outputs": [
    {
     "output_type": "error",
     "ename": "NameError",
     "evalue": "name 'bar_width' is not defined",
     "traceback": [
      "\u001b[0;31m---------------------------------------------------------------------------\u001b[0m",
      "\u001b[0;31mNameError\u001b[0m                                 Traceback (most recent call last)",
      "\u001b[0;32m<ipython-input-18-ea7c9804f0d1>\u001b[0m in \u001b[0;36m<module>\u001b[0;34m\u001b[0m\n\u001b[1;32m     56\u001b[0m \u001b[0;34m\u001b[0m\u001b[0m\n\u001b[1;32m     57\u001b[0m \u001b[0;31m# # bar_width = 0.2\u001b[0m\u001b[0;34m\u001b[0m\u001b[0;34m\u001b[0m\u001b[0;34m\u001b[0m\u001b[0m\n\u001b[0;32m---> 58\u001b[0;31m \u001b[0mplt\u001b[0m\u001b[0;34m.\u001b[0m\u001b[0mbar\u001b[0m\u001b[0;34m(\u001b[0m\u001b[0mX_axis\u001b[0m \u001b[0;34m-\u001b[0m \u001b[0mbar_width\u001b[0m \u001b[0;34m-\u001b[0m \u001b[0;36m0.025\u001b[0m\u001b[0;34m,\u001b[0m \u001b[0mdataset\u001b[0m\u001b[0;34m[\u001b[0m\u001b[0;34m'avgTAT'\u001b[0m\u001b[0;34m]\u001b[0m\u001b[0;34m,\u001b[0m\u001b[0mbar_width\u001b[0m\u001b[0;34m,\u001b[0m \u001b[0mlabel\u001b[0m \u001b[0;34m=\u001b[0m \u001b[0;34m'ATAT'\u001b[0m\u001b[0;34m)\u001b[0m\u001b[0;34m\u001b[0m\u001b[0;34m\u001b[0m\u001b[0m\n\u001b[0m\u001b[1;32m     59\u001b[0m \u001b[0;31m# # plt.bar(X_axis, dataset['avgWT'],bar_width, label = 'AWT')\u001b[0m\u001b[0;34m\u001b[0m\u001b[0;34m\u001b[0m\u001b[0;34m\u001b[0m\u001b[0m\n\u001b[1;32m     60\u001b[0m \u001b[0;31m# # plt.bar(X_axis + bar_width + 0.025, dataset['nCS'],bar_width, label = 'CS')\u001b[0m\u001b[0;34m\u001b[0m\u001b[0;34m\u001b[0m\u001b[0;34m\u001b[0m\u001b[0m\n",
      "\u001b[0;31mNameError\u001b[0m: name 'bar_width' is not defined"
     ]
    },
    {
     "output_type": "display_data",
     "data": {
      "text/plain": [
       "<Figure size 432x288 with 0 Axes>"
      ]
     },
     "metadata": {}
    },
    {
     "output_type": "display_data",
     "data": {
      "image/png": "[encoded data removed]",
      "text/plain": [
       "<Figure size 640x640 with 1 Axes>"
      ]
     },
     "metadata": {
      "needs_background": "light"
     }
    }
   ],
   "metadata": {}
  },
  {
   "cell_type": "code",
   "execution_count": 69,
   "source": [
    "fig = plt.figure( figsize=(8, 4 ) )\n",
    "ax = fig.add_axes( [.05, .1, .9, .85 ] )\n",
    "ax.set_yticks( np.linspace(0, 200, 11 ) )\n",
    "\n",
    "xticks = [ 2, 3, 4, 6, 8, 10 ]\n",
    "xticks_minor = [ 1, 5, 7, 9, 11 ]\n",
    "xlbls = [ 'A', 'B', 'C', 'D', 'E', 'F' ]\n",
    "\n",
    "ax.set_xticks( xticks )\n",
    "ax.set_xticks( xticks_minor, minor=True )\n",
    "ax.set_xticklabels( xlbls )\n",
    "ax.set_xlim( 1, 11 )\n",
    "\n",
    "ax.grid( 'off', axis='x' )\n",
    "ax.grid( 'off', axis='x', which='minor' )\n",
    "\n",
    "# vertical alignment of xtick labels\n",
    "va = [ 0, -.05, 0, -.05, -.05, -.05 ]\n",
    "for t, y in zip( ax.get_xticklabels( ), va ):\n",
    "    t.set_y( y )\n",
    "\n",
    "ax.tick_params( axis='x', which='minor', direction='out', length=30 )\n",
    "ax.tick_params( axis='x', which='major', bottom='off', top='off' )"
   ],
   "outputs": [
    {
     "output_type": "display_data",
     "data": {
      "image/png": "[encoded data removed]",
      "text/plain": [
       "<Figure size 576x288 with 1 Axes>"
      ]
     },
     "metadata": {
      "needs_background": "light"
     }
    }
   ],
   "metadata": {}
  },
  {
   "cell_type": "code",
   "execution_count": null,
   "source": [],
   "outputs": [],
   "metadata": {}
  }
 ],
 "metadata": {
  "orig_nbformat": 4,
  "language_info": {
   "name": "python",
   "version": "3.6.9",
   "mimetype": "text/x-python",
   "codemirror_mode": {
    "name": "ipython",
    "version": 3
   },
   "pygments_lexer": "ipython3",
   "nbconvert_exporter": "python",
   "file_extension": ".py"
  },
  "kernelspec": {
   "name": "python3",
   "display_name": "Python 3.6.9 64-bit"
  },
  "interpreter": {
   "hash": "31f2aee4e71d21fbe5cf8b01ff0e069b9275f58929596ceb00d14d90e3e16cd6"
  }
 },
 "nbformat": 4,
 "nbformat_minor": 2
}