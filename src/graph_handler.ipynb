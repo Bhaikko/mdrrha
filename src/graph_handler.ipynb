{
 "cells": [
  {
   "cell_type": "markdown",
   "source": [
    "# Graph Visualizer For Algorithms using CSV File"
   ],
   "metadata": {}
  },
  {
   "cell_type": "code",
   "execution_count": 1,
   "source": [
    "# Importing Modules\n",
    "import numpy as np\n",
    "import pandas as pd\n",
    "import matplotlib.pyplot as plt\n",
    "from matplotlib.patches import Rectangle"
   ],
   "outputs": [],
   "metadata": {}
  },
  {
   "cell_type": "code",
   "execution_count": 2,
   "source": [
    "# Import Data from CSV file\n",
    "dataset = pd.read_csv(\n",
    "    './../data/sample_FCFS_SJF_Comparison.csv', \n",
    "    sep=r'\\s*,\\s*', \n",
    "    header=0, \n",
    "    encoding='ascii', \n",
    "    engine='python'\n",
    ")\n",
    "\n",
    "print(dataset)\n"
   ],
   "outputs": [
    {
     "output_type": "stream",
     "name": "stdout",
     "text": [
      "          name  #cases  avgTAT  avgWT  nCS\n",
      "0  mDRRHA-fcfs       8    27.0    5.5   29\n",
      "1   mDRRHA-sjf       8    20.0    4.5   20\n",
      "2  mDRRHA-fcfs      10    27.0    5.5   29\n",
      "3   mDRRHA-sjf      10    20.0    4.5   20\n",
      "4  mDRRHA-fcfs       7    27.0    5.5   29\n",
      "5   mDRRHA-sjf       7    20.0    4.5   20\n",
      "6  mDRRHA-fcfs       7    27.0    5.5   29\n",
      "7   mDRRHA-sjf       7    20.0    4.5   20\n"
     ]
    }
   ],
   "metadata": {}
  },
  {
   "cell_type": "code",
   "execution_count": 3,
   "source": [
    "MDRRHA_SJS_FCFS = 0\n",
    "ALGO_COMPARISONS = 1"
   ],
   "outputs": [],
   "metadata": {}
  },
  {
   "cell_type": "code",
   "execution_count": 4,
   "source": [
    "print(dataset['avgTAT'])"
   ],
   "outputs": [
    {
     "output_type": "stream",
     "name": "stdout",
     "text": [
      "0    27.0\n",
      "1    20.0\n",
      "2    27.0\n",
      "3    20.0\n",
      "4    27.0\n",
      "5    20.0\n",
      "6    27.0\n",
      "7    20.0\n",
      "Name: avgTAT, dtype: float64\n"
     ]
    }
   ],
   "metadata": {}
  },
  {
   "cell_type": "code",
   "execution_count": 19,
   "source": [
    "# Comparison of mDRRHA with SJF and FCFS\n",
    "\n",
    "# Graph Configurations \n",
    "plt.figure(MDRRHA_SJS_FCFS)\n",
    "fig = plt.figure(figsize = (9, 9), dpi = 80)\n",
    "ax = fig.add_axes([.05, .1, .9, .85])\n",
    "\n",
    "X = dataset['name'].to_numpy()\n",
    "X_labels = []\n",
    "X_axis = []\n",
    "X_axis_lines = [0]\n",
    "X_axis_bars = []\n",
    "\n",
    "current_case_index = 1\n",
    "push_empty = False\n",
    "\n",
    "counter = 1\n",
    "for i in range(len(X)):\n",
    "    X_labels = np.append(X_labels, X[i])\n",
    "    X_axis.append(counter)\n",
    "    X_axis_bars.append(counter)\n",
    "\n",
    "    counter += 1\n",
    "    if push_empty:\n",
    "        push_empty = False\n",
    "        X_axis_lines.append(counter)\n",
    "        counter += 1\n",
    "\n",
    "    if i % 2 == 0:\n",
    "        X_labels = np.append(X_labels, 'Case ' + str(current_case_index))\n",
    "        current_case_index += 1\n",
    "        X_axis.append(counter)\n",
    "        counter += 1\n",
    "        push_empty = True\n",
    "\n",
    "ax.set_xticks(X_axis)\n",
    "ax.set_xticks(X_axis_lines, minor = True)\n",
    "ax.set_xticklabels(X_labels)\n",
    "\n",
    "# vertical alignment of xtick labels\n",
    "minor_axis_padding_up = -0.2\n",
    "vertical_align = []\n",
    "for i in range(0, len(X_labels)):\n",
    "    valueToPush = 0\n",
    "    if i % 3 == 1:\n",
    "        valueToPush = minor_axis_padding_up      \n",
    "\n",
    "    vertical_align.append(valueToPush)\n",
    "\n",
    "# Adding Lines to xTicks\n",
    "line_width = 0.025\n",
    "line_height = 125\n",
    "\n",
    "for i, (t, y) in enumerate(zip(ax.get_xticklabels(), vertical_align)):\n",
    "    if i % 3 == 0 or i % 3 == 2:\n",
    "        t.set_rotation(90)\n",
    "\n",
    "    t.set_y(y)\n",
    "\n",
    "\n",
    "ax.tick_params( axis='x', which='minor', direction='out', length=line_height )\n",
    "ax.tick_params( axis='x', which='major', bottom='off', top='off' )\n",
    "\n",
    "bar_width = 0.35\n",
    "padding_betweenbars = 0.05\n",
    "\n",
    "# Plotting Bars\n",
    "current_bar_index = 0\n",
    "for index, x_axis in enumerate(X_axis_bars):\n",
    "    ax.bar(\n",
    "        x_axis - bar_width - padding_betweenbars, \n",
    "        dataset['avgTAT'][current_bar_index], \n",
    "        bar_width, \n",
    "        label = 'ATAT',\n",
    "        color = 'skyblue'\n",
    "    )\n",
    "\n",
    "    ax.bar(\n",
    "        x_axis, \n",
    "        dataset['avgWT'][current_bar_index], \n",
    "        bar_width, \n",
    "        label = 'AWT',\n",
    "        color = 'orange'\n",
    "    )\n",
    "\n",
    "    ax.bar(\n",
    "        x_axis + bar_width + padding_betweenbars, \n",
    "        dataset['nCS'][current_bar_index], \n",
    "        bar_width, \n",
    "        label = 'CS',\n",
    "        color = 'khaki'\n",
    "    )\n",
    "\n",
    "    current_bar_index += 1\n",
    "\n",
    "plt.xlabel('Algorithm\\'s Name', labelpad = 50)\n",
    "plt.ylabel('Milliseconds')\n",
    "plt.title('Comparison of the proposed model integrated with SJF and FCFS')\n",
    "plt.legend()\n",
    "plt.show()\n",
    "\n",
    "\n",
    "# TODO: Change Legend Position\n",
    "# https://stackoverflow.com/questions/4700614/how-to-put-the-legend-out-of-the-plot"
   ],
   "outputs": [
    {
     "output_type": "display_data",
     "data": {
      "text/plain": [
       "<Figure size 432x288 with 0 Axes>"
      ]
     },
     "metadata": {}
    },
    {
     "output_type": "display_data",
     "data": {
      "image/png": "[encoded data removed]",
      "text/plain": [
       "<Figure size 720x720 with 1 Axes>"
      ]
     },
     "metadata": {
      "needs_background": "light"
     }
    }
   ],
   "metadata": {}
  },
  {
   "cell_type": "code",
   "execution_count": 69,
   "source": [
    "fig = plt.figure( figsize=(8, 4 ) )\n",
    "ax = fig.add_axes( [.05, .1, .9, .85 ] )\n",
    "ax.set_yticks( np.linspace(0, 200, 11 ) )\n",
    "\n",
    "xticks = [ 2, 3, 4, 6, 8, 10 ]\n",
    "xticks_minor = [ 1, 5, 7, 9, 11 ]\n",
    "xlbls = [ 'A', 'B', 'C', 'D', 'E', 'F' ]\n",
    "\n",
    "ax.set_xticks( xticks )\n",
    "ax.set_xticks( xticks_minor, minor=True )\n",
    "ax.set_xticklabels( xlbls )\n",
    "ax.set_xlim( 1, 11 )\n",
    "\n",
    "ax.grid( 'off', axis='x' )\n",
    "ax.grid( 'off', axis='x', which='minor' )\n",
    "\n",
    "# vertical alignment of xtick labels\n",
    "va = [ 0, -.05, 0, -.05, -.05, -.05 ]\n",
    "for t, y in zip( ax.get_xticklabels( ), va ):\n",
    "    t.set_y( y )\n",
    "\n",
    "ax.tick_params( axis='x', which='minor', direction='out', length=30 )\n",
    "ax.tick_params( axis='x', which='major', bottom='off', top='off' )"
   ],
   "outputs": [
    {
     "output_type": "display_data",
     "data": {
      "image/png": "[encoded data removed]",
      "text/plain": [
       "<Figure size 576x288 with 1 Axes>"
      ]
     },
     "metadata": {
      "needs_background": "light"
     }
    }
   ],
   "metadata": {}
  },
  {
   "cell_type": "code",
   "execution_count": null,
   "source": [],
   "outputs": [],
   "metadata": {}
  }
 ],
 "metadata": {
  "orig_nbformat": 4,
  "language_info": {
   "name": "python",
   "version": "3.6.9",
   "mimetype": "text/x-python",
   "codemirror_mode": {
    "name": "ipython",
    "version": 3
   },
   "pygments_lexer": "ipython3",
   "nbconvert_exporter": "python",
   "file_extension": ".py"
  },
  "kernelspec": {
   "name": "python3",
   "display_name": "Python 3.6.9 64-bit"
  },
  "interpreter": {
   "hash": "31f2aee4e71d21fbe5cf8b01ff0e069b9275f58929596ceb00d14d90e3e16cd6"
  }
 },
 "nbformat": 4,
 "nbformat_minor": 2
}